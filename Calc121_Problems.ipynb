{
 "cells": [
  {
   "cell_type": "markdown",
   "metadata": {},
   "source": [
    "# 0: Load modules and functions"
   ]
  },
  {
   "cell_type": "code",
   "execution_count": 190,
   "metadata": {},
   "outputs": [],
   "source": [
    "#necessary modules for the mathematica link function\n",
    "import os\n",
    "import subprocess\n",
    "\n",
    "# other stuff\n",
    "import pandas as pd\n",
    "import doctest \n",
    "\n",
    "# https://mathematica.stackexchange.com/questions/4643/how-to-use-mathematica-functions-in-python-programs\n",
    "# ^ used instructions in this link"
   ]
  },
  {
   "cell_type": "code",
   "execution_count": 59,
   "metadata": {},
   "outputs": [
    {
     "data": {
      "text/plain": [
       "'Hello World!'"
      ]
     },
     "execution_count": 59,
     "metadata": {},
     "output_type": "execute_result"
    }
   ],
   "source": [
    "def execute_terminal(cmd='echo \"Hello World!\"',v=False):\n",
    "    \"\"\"\n",
    "    Takes a command in the form of 'run \"<mathematica func>\"'\n",
    "    >>> int(execute_terminal('run Prime[100]'))\n",
    "    541\n",
    "    \n",
    "    >>> execute_terminal('run \"Sum[2x-1,{x,1,k}]\"')\n",
    "    'k^2'\n",
    "    \n",
    "    >>> execute_terminal('run Integrate[Log[x],x]')\n",
    "    '-x + x*Log[x]'\n",
    "    \n",
    "    >>> execute_terminal(\"run 'Zeta[2]'\")\n",
    "    'Pi^2/6'\n",
    "    \n",
    "    \"\"\"\n",
    "    if v: print(cmd)\n",
    "    proc=subprocess.Popen(cmd, shell=True, stdout=subprocess.PIPE, )\n",
    "    if v: print(proc)\n",
    "    output=proc.communicate()[0].decode('utf-8')[:-1]\n",
    "    if v: print(output)\n",
    "    return output\n",
    "execute_terminal()"
   ]
  },
  {
   "cell_type": "code",
   "execution_count": 165,
   "metadata": {},
   "outputs": [],
   "source": [
    "def _check_double_signs(string):\n",
    "    if \"--\" in string:\n",
    "        string = string.replace(\"--\",'+')\n",
    "    return string"
   ]
  },
  {
   "cell_type": "code",
   "execution_count": 166,
   "metadata": {},
   "outputs": [],
   "source": [
    "def Mrun(mathematica_command=\"Prime[100]\",v=False):\n",
    "    #add checks to commands!\n",
    "    mathematica_command = _check_double_signs(mathematica_command)\n",
    "    \n",
    "    \n",
    "    output = execute_terminal('run \"{}\"'.format(mathematica_command.replace(\" \",'')),v)\n",
    "    if v: print(output)\n",
    "    return output"
   ]
  },
  {
   "cell_type": "code",
   "execution_count": 196,
   "metadata": {},
   "outputs": [],
   "source": [
    "def find_func_extrema(func,max_extrema=True,v=False):\n",
    "    \"\"\"\n",
    "    Find maximum or minimum of a function.\n",
    "    >>> find_func_extrema('-x^3 + 3*x^2 - 4',max_extrema=False)\n",
    "    Minimum point: (x=-1,y=-6)\n",
    "    \n",
    "    >>> find_func_extrema('-x^3 + 3*x^2 - 4',max_extrema=True)\n",
    "    Maximum point: (x=2,y=0)\n",
    "    \"\"\"\n",
    "    \n",
    "    #TODO: Add functionality so that multiple y_val minimums are appended to a list\n",
    "    \n",
    "    extrema_to_be_found = 'Maximum' if max_extrema else \"Minimum\"\n",
    "    \n",
    "    ## get x values for extrema\n",
    "    #find derivative of function\n",
    "    d_func = Mrun(f\"D[{func}]\")\n",
    "    # get x values of where derivative is 0\n",
    "    extrema_func_vals = make_output_array_list(Mrun(f\"Solve[{d_func}==0,x]\"))\n",
    "    \n",
    "    \n",
    "    ## find evaluated extrema\n",
    "    extrema_yval = None\n",
    "    extrema_xval = None\n",
    "    \n",
    "    \n",
    "    \n",
    "    for x_val in extrema_func_vals:\n",
    "        #replace variables in function with number\n",
    "        mod_func = func.replace('x',x_val)\n",
    "        \n",
    "        #evaluate the function with numbers in it\n",
    "        y_val = Mrun(f\"Evaluate[{mod_func}]\")\n",
    "        if v: print(f\"when x_val --> {x_val}, y_val -->{y_val}\")\n",
    "        if extrema_yval == None and extrema_xval==None: extrema_yval, extrema_xval = y_val,x_val\n",
    "        variable_change_condition = extrema_yval < y_val if max_extrema else extrema_yval > y_val\n",
    "        \n",
    "        \n",
    "            \n",
    "            \n",
    "        if variable_change_condition:\n",
    "            extrema_yval = y_val\n",
    "            extrema_xval = x_val\n",
    "\n",
    "    if v: print(f\"{extrema_to_be_found} point: (x={extrema_xval},y={extrema_yval})\")\n",
    "    return extrema_xval,extrema_yval"
   ]
  },
  {
   "cell_type": "code",
   "execution_count": 116,
   "metadata": {},
   "outputs": [],
   "source": [
    "def make_output_array_list(string,dimension=1):\n",
    "    #TODO: first check dimension ... etc. useful for highdimensional data\n",
    "    \n",
    "    #remove stuff\n",
    "    string = string.replace(' ','') # remove white space from string\n",
    "    string = string.replace(\"{\",'').replace(\"}\",'') #remove the {} symbols\n",
    "    string = string.replace(\"->\",'') # remove arrows from output\n",
    "    string = string.replace(\"x\",'') #remove variable 'x' from output\n",
    "    \n",
    "    #make list\n",
    "    string = string.split(',') #make a list splitting on commas\n",
    "    \n",
    "    return string\n",
    "    \n",
    "    "
   ]
  },
  {
   "cell_type": "code",
   "execution_count": 193,
   "metadata": {},
   "outputs": [
    {
     "data": {
      "text/plain": [
       "TestResults(failed=0, attempted=6)"
      ]
     },
     "execution_count": 193,
     "metadata": {},
     "output_type": "execute_result"
    }
   ],
   "source": [
    "doctest.testmod()"
   ]
  },
  {
   "cell_type": "markdown",
   "metadata": {},
   "source": [
    "# 1: Practice Simple Calculus\n",
    "* show that this works for `integration` and `differentiation`\n",
    "* show that this works for 2D `optimizaiton`"
   ]
  },
  {
   "cell_type": "markdown",
   "metadata": {},
   "source": [
    "### Differentiation\n",
    "\n",
    "**Rating: 9/10**"
   ]
  },
  {
   "cell_type": "code",
   "execution_count": 247,
   "metadata": {
    "code_folding": []
   },
   "outputs": [
    {
     "data": {
      "text/plain": [
       "['2*x',\n",
       " '-14',\n",
       " '5 - 2*x',\n",
       " '1 - 4*x + 3*x^2',\n",
       " '3/(2*Sqrt[-4 + 3*x])',\n",
       " '-9/(2*Sqrt[1 - 9*x])']"
      ]
     },
     "execution_count": 247,
     "metadata": {},
     "output_type": "execute_result"
    }
   ],
   "source": [
    "#problem 1, find the derivative of a function\n",
    "funcs = ['x^2', '3 - 14x', '10 + 5x-x^2', \n",
    "         'x^3-2x^2+x-1','Sqrt[3x-4]',\n",
    "         'Sqrt[1-9x]'] \n",
    "results = []\n",
    "for f in funcs:\n",
    "    results.append(Mrun(f\"D[{f},x]\",v=False)) # this function fails if the inputted function has spaces in it\n",
    "results"
   ]
  },
  {
   "cell_type": "markdown",
   "metadata": {},
   "source": [
    "### Integration\n",
    "**Rating: 9/10**"
   ]
  },
  {
   "cell_type": "code",
   "execution_count": 96,
   "metadata": {},
   "outputs": [
    {
     "data": {
      "text/plain": [
       "['x^2',\n",
       " '-14*x',\n",
       " '5*x - x^2',\n",
       " 'x - 2*x^2 + x^3',\n",
       " 'Sqrt[-4 + 3*x]',\n",
       " 'Sqrt[1 - 9*x]']"
      ]
     },
     "execution_count": 96,
     "metadata": {},
     "output_type": "execute_result"
    }
   ],
   "source": [
    "# problem 1, integrate the previous results\n",
    "integrals = []\n",
    "for n in results:\n",
    "    integrals.append(Mrun(f\"Integrate[{n},x]\",v=False))\n",
    "integrals"
   ]
  },
  {
   "cell_type": "markdown",
   "metadata": {},
   "source": [
    "### Optimization\n",
    "**Rating: 7/10**\n",
    "* mostly works, but there might be some minor issues to work out, like in Problem 3"
   ]
  },
  {
   "cell_type": "code",
   "execution_count": 245,
   "metadata": {
    "scrolled": true
   },
   "outputs": [
    {
     "name": "stdout",
     "output_type": "stream",
     "text": [
      "when x_val --> -1, y_val -->-6\n",
      "when x_val --> 2, y_val -->0\n",
      "when x_val --> 2, y_val -->0\n",
      "Maximum point: (x=2,y=0)\n",
      "\n",
      "when x_val --> -1, y_val -->-6\n",
      "when x_val --> 2, y_val -->0\n",
      "when x_val --> 2, y_val -->0\n",
      "Minimum point: (x=-1,y=-6)\n"
     ]
    },
    {
     "data": {
      "text/plain": [
       "('-1', '-6')"
      ]
     },
     "execution_count": 245,
     "metadata": {},
     "output_type": "execute_result"
    }
   ],
   "source": [
    "# PROBLEM 1\n",
    "# h(x) = -x^3 + 3x^2 -4 \n",
    "# find values of x where h has maximum. then, find minimum. \n",
    "\n",
    "func = '-x^3 + 3*x^2 - 4'\n",
    "find_func_extrema(func,v=True, max_extrema=True) # maximum val\n",
    "print()\n",
    "find_func_extrema(func,v=True, max_extrema=False) #minimum val\n",
    "\n",
    "#answer: max --> x=2\n",
    "        #min --> x=-1"
   ]
  },
  {
   "cell_type": "code",
   "execution_count": 200,
   "metadata": {},
   "outputs": [
    {
     "name": "stdout",
     "output_type": "stream",
     "text": [
      "when x_val --> 0, y_val -->0\n",
      "when x_val --> 0, y_val -->0\n",
      "when x_val --> 0, y_val -->0\n",
      "when x_val --> 0, y_val -->0\n",
      "when x_val --> 0, y_val -->0\n",
      "when x_val --> 0, y_val -->0\n",
      "when x_val --> -2/Sqrt[3], y_val -->1/108\n",
      "when x_val --> 2/Sqrt[3], y_val -->-1/108\n",
      "Minimum point: (x=2/Sqrt[3],y=-1/108)\n"
     ]
    },
    {
     "data": {
      "text/plain": [
       "('2/Sqrt[3]', '-1/108')"
      ]
     },
     "execution_count": 200,
     "metadata": {},
     "output_type": "execute_result"
    }
   ],
   "source": [
    "# PROBLEM 2\n",
    "# if g(x) is a function, and its derivative is x^5 * (x+1)(x-1), \n",
    "# how many minima does g(x) have?\n",
    "\n",
    "dg_func = 'x^5 * (x+1)*(x-1)'\n",
    "g_func = Mrun(f\"Integrate[{dg_func},x]\")\n",
    "\n",
    "find_func_extrema(g_func, v=True, max_extrema=False) \n",
    "#answer: 2 minimum"
   ]
  },
  {
   "cell_type": "code",
   "execution_count": 242,
   "metadata": {},
   "outputs": [],
   "source": [
    "# PROBLEM 3\n",
    "# for what value of x does g have a minimum if g = x^6 - 3x^5\n",
    "g_func = 'x^6 - 3*(x)^(5)'\n",
    "#find_func_extrema(g_func, max_extrema=False,v=True) # my function isn't working...\n",
    "\n",
    "#....but i just realized mathematica actually has a function pre made for this. now I feel dumb.\n",
    "\n",
    "Mrun(\"FindMinimum[(%s),{{x,1.5}}]\"%g_func)\n"
   ]
  },
  {
   "cell_type": "code",
   "execution_count": 246,
   "metadata": {},
   "outputs": [
    {
     "name": "stdout",
     "output_type": "stream",
     "text": [
      "when x_val --> 0, y_val -->0\n",
      "when x_val --> 0, y_val -->0\n",
      "when x_val --> 0, y_val -->0\n",
      "when x_val --> 0, y_val -->0\n",
      "when x_val --> 0, y_val -->0\n",
      "when x_val --> (-35-Sqrt[31465])/60, y_val -->(71*(-35 - Sqrt[31465]))/19595520000000 + (35 + Sqrt[31465])/648000000\n",
      "when x_val --> (-35+Sqrt[31465])/60, y_val -->(35 - Sqrt[31465])/648000000 + (71*(-35 + Sqrt[31465]))/19595520000000\n",
      "Maximum point: (x=0,y=0)\n"
     ]
    },
    {
     "data": {
      "text/plain": [
       "('0', '0')"
      ]
     },
     "execution_count": 246,
     "metadata": {},
     "output_type": "execute_result"
    }
   ],
   "source": [
    "# PROBLEM 4\n",
    "# at how many points does f have a local max, if deriv(F) is x^4(x-2)(x+3)?\n",
    "df_func = \"x^4*(x-2)*(x+3)\"\n",
    "f_func = Mrun(f\"Integrate[{df_func},x]\")\n",
    "find_func_extrema(f_func,max_extrema=True, v=True)"
   ]
  },
  {
   "cell_type": "code",
   "execution_count": null,
   "metadata": {},
   "outputs": [],
   "source": []
  }
 ],
 "metadata": {
  "kernelspec": {
   "display_name": "Python 3",
   "language": "python",
   "name": "python3"
  },
  "language_info": {
   "codemirror_mode": {
    "name": "ipython",
    "version": 3
   },
   "file_extension": ".py",
   "mimetype": "text/x-python",
   "name": "python",
   "nbconvert_exporter": "python",
   "pygments_lexer": "ipython3",
   "version": "3.7.3"
  },
  "toc": {
   "base_numbering": 1,
   "nav_menu": {},
   "number_sections": false,
   "sideBar": true,
   "skip_h1_title": false,
   "title_cell": "Table of Contents",
   "title_sidebar": "Contents",
   "toc_cell": false,
   "toc_position": {},
   "toc_section_display": true,
   "toc_window_display": true
  }
 },
 "nbformat": 4,
 "nbformat_minor": 2
}
