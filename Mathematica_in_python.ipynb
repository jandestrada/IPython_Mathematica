{
 "cells": [
  {
   "cell_type": "code",
   "execution_count": 52,
   "metadata": {},
   "outputs": [],
   "source": [
    "import os\n",
    "import subprocess\n",
    "\n",
    "import doctest"
   ]
  },
  {
   "cell_type": "code",
   "execution_count": 2,
   "metadata": {},
   "outputs": [
    {
     "data": {
      "text/plain": [
       "0"
      ]
     },
     "execution_count": 2,
     "metadata": {},
     "output_type": "execute_result"
    }
   ],
   "source": [
    "os.system(\"run Print['hello']\")"
   ]
  },
  {
   "cell_type": "code",
   "execution_count": 8,
   "metadata": {},
   "outputs": [
    {
     "data": {
      "text/plain": [
       "CompletedProcess(args=['run', \"Print['hell']\"], returncode=0)"
      ]
     },
     "execution_count": 8,
     "metadata": {},
     "output_type": "execute_result"
    }
   ],
   "source": [
    "subprocess.run([\"run\",\"Print['hell']\"])"
   ]
  },
  {
   "cell_type": "code",
   "execution_count": 11,
   "metadata": {},
   "outputs": [
    {
     "data": {
      "text/plain": [
       "0"
      ]
     },
     "execution_count": 11,
     "metadata": {},
     "output_type": "execute_result"
    }
   ],
   "source": [
    "subprocess.call([\"run\",\"\"\"Print[\"hell\"]\"\"\"])"
   ]
  },
  {
   "cell_type": "markdown",
   "metadata": {},
   "source": [
    "### Tests"
   ]
  },
  {
   "cell_type": "code",
   "execution_count": 29,
   "metadata": {},
   "outputs": [],
   "source": [
    "#>>>run Prime[100]\n",
    "#541\n",
    "\n",
    "#>>>run 'Sum[2x-1,{x,1,k}]'\n",
    "#k^2\n",
    "\n",
    "#>>>run Integrate[Log[x],x]\n",
    "#-x + x*Log[x]\n",
    "\n",
    "#>>>run 'Zeta[2]'\n",
    "#Pi^2/6"
   ]
  },
  {
   "cell_type": "code",
   "execution_count": 56,
   "metadata": {},
   "outputs": [
    {
     "data": {
      "text/plain": [
       "'Hello World!'"
      ]
     },
     "execution_count": 56,
     "metadata": {},
     "output_type": "execute_result"
    }
   ],
   "source": [
    "def execute_terminal(cmd='echo \"Hello World!\"'):\n",
    "    \"\"\"\n",
    "    Takes a command in the form of 'run \"<mathematica func>\"'\n",
    "    >>> int(execute_terminal('run Prime[100]'))\n",
    "    541\n",
    "    \n",
    "    >>> execute_terminal('run \"Sum[2x-1,{x,1,k}]\"')\n",
    "    'k^2'\n",
    "    \n",
    "    >>> execute_terminal('run Integrate[Log[x],x]')\n",
    "    '-x + x*Log[x]'\n",
    "    \n",
    "    >>> execute_terminal(\"run 'Zeta[2]'\")\n",
    "    'Pi^2/6'\n",
    "    \n",
    "    \"\"\"\n",
    "    \n",
    "    proc=subprocess.Popen(cmd, shell=True, stdout=subprocess.PIPE, )\n",
    "    output=proc.communicate()[0].decode('utf-8')[:-1]\n",
    "    return output\n",
    "execute_terminal()"
   ]
  },
  {
   "cell_type": "code",
   "execution_count": 45,
   "metadata": {},
   "outputs": [],
   "source": [
    "cmd_list= ['run \"Prime[100]\"','run \"Sum[2x-1,{x,1,k}]\"','run Integrate[Log[x],x]','run \"Zeta[2]\"']\n",
    "outputs = []\n",
    "for cmd in cmd_list:\n",
    "    outputs.append(execute_terminal(cmd))"
   ]
  },
  {
   "cell_type": "code",
   "execution_count": 57,
   "metadata": {},
   "outputs": [
    {
     "data": {
      "text/plain": [
       "TestResults(failed=0, attempted=4)"
      ]
     },
     "execution_count": 57,
     "metadata": {},
     "output_type": "execute_result"
    }
   ],
   "source": [
    "doctest.testmod() # all tests passed!"
   ]
  }
 ],
 "metadata": {
  "kernelspec": {
   "display_name": "Python 3",
   "language": "python",
   "name": "python3"
  },
  "language_info": {
   "codemirror_mode": {
    "name": "ipython",
    "version": 3
   },
   "file_extension": ".py",
   "mimetype": "text/x-python",
   "name": "python",
   "nbconvert_exporter": "python",
   "pygments_lexer": "ipython3",
   "version": "3.7.3"
  },
  "toc": {
   "base_numbering": 1,
   "nav_menu": {},
   "number_sections": true,
   "sideBar": true,
   "skip_h1_title": false,
   "title_cell": "Table of Contents",
   "title_sidebar": "Contents",
   "toc_cell": false,
   "toc_position": {},
   "toc_section_display": true,
   "toc_window_display": false
  }
 },
 "nbformat": 4,
 "nbformat_minor": 2
}
